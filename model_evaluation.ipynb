{
 "cells": [
  {
   "cell_type": "code",
   "execution_count": 8,
   "id": "ded97503",
   "metadata": {},
   "outputs": [],
   "source": [
    "import tensorflow as tf\n",
    "from tensorflow.keras import layers\n",
    "from tensorflow.keras.preprocessing.image import ImageDataGenerator\n",
    "\n",
    "import pandas as pd\n",
    "import matplotlib.pyplot as plt\n",
    "import os"
   ]
  },
  {
   "cell_type": "code",
   "execution_count": 9,
   "id": "cefc3266",
   "metadata": {},
   "outputs": [
    {
     "data": {
      "text/html": [
       "<div>\n",
       "<style scoped>\n",
       "    .dataframe tbody tr th:only-of-type {\n",
       "        vertical-align: middle;\n",
       "    }\n",
       "\n",
       "    .dataframe tbody tr th {\n",
       "        vertical-align: top;\n",
       "    }\n",
       "\n",
       "    .dataframe thead th {\n",
       "        text-align: right;\n",
       "    }\n",
       "</style>\n",
       "<table border=\"1\" class=\"dataframe\">\n",
       "  <thead>\n",
       "    <tr style=\"text-align: right;\">\n",
       "      <th></th>\n",
       "      <th>ageRange</th>\n",
       "      <th>path</th>\n",
       "    </tr>\n",
       "  </thead>\n",
       "  <tbody>\n",
       "    <tr>\n",
       "      <th>18640</th>\n",
       "      <td>0</td>\n",
       "      <td>./UTKFace/26_1_3_20170117153712926.jpg.chip.jpg</td>\n",
       "    </tr>\n",
       "    <tr>\n",
       "      <th>8878</th>\n",
       "      <td>0</td>\n",
       "      <td>./UTKFace/35_1_0_20170117092205487.jpg.chip.jpg</td>\n",
       "    </tr>\n",
       "    <tr>\n",
       "      <th>7495</th>\n",
       "      <td>0</td>\n",
       "      <td>./UTKFace/30_1_2_20170116192643744.jpg.chip.jpg</td>\n",
       "    </tr>\n",
       "    <tr>\n",
       "      <th>3851</th>\n",
       "      <td>0</td>\n",
       "      <td>./UTKFace/31_1_4_20170112235504601.jpg.chip.jpg</td>\n",
       "    </tr>\n",
       "    <tr>\n",
       "      <th>3407</th>\n",
       "      <td>0</td>\n",
       "      <td>./UTKFace/36_0_1_20170120221302965.jpg.chip.jpg</td>\n",
       "    </tr>\n",
       "    <tr>\n",
       "      <th>...</th>\n",
       "      <td>...</td>\n",
       "      <td>...</td>\n",
       "    </tr>\n",
       "    <tr>\n",
       "      <th>18557</th>\n",
       "      <td>3</td>\n",
       "      <td>./UTKFace/85_1_2_20170112204748587.jpg.chip.jpg</td>\n",
       "    </tr>\n",
       "    <tr>\n",
       "      <th>14014</th>\n",
       "      <td>3</td>\n",
       "      <td>./UTKFace/85_1_0_20170110182918046.jpg.chip.jpg</td>\n",
       "    </tr>\n",
       "    <tr>\n",
       "      <th>2277</th>\n",
       "      <td>3</td>\n",
       "      <td>./UTKFace/80_1_1_20170116153903211.jpg.chip.jpg</td>\n",
       "    </tr>\n",
       "    <tr>\n",
       "      <th>18416</th>\n",
       "      <td>3</td>\n",
       "      <td>./UTKFace/85_0_0_20170111210559755.jpg.chip.jpg</td>\n",
       "    </tr>\n",
       "    <tr>\n",
       "      <th>1363</th>\n",
       "      <td>3</td>\n",
       "      <td>./UTKFace/80_1_1_20170117193146273.jpg.chip.jpg</td>\n",
       "    </tr>\n",
       "  </tbody>\n",
       "</table>\n",
       "<p>12000 rows × 2 columns</p>\n",
       "</div>"
      ],
      "text/plain": [
       "      ageRange                                             path\n",
       "18640        0  ./UTKFace/26_1_3_20170117153712926.jpg.chip.jpg\n",
       "8878         0  ./UTKFace/35_1_0_20170117092205487.jpg.chip.jpg\n",
       "7495         0  ./UTKFace/30_1_2_20170116192643744.jpg.chip.jpg\n",
       "3851         0  ./UTKFace/31_1_4_20170112235504601.jpg.chip.jpg\n",
       "3407         0  ./UTKFace/36_0_1_20170120221302965.jpg.chip.jpg\n",
       "...        ...                                              ...\n",
       "18557        3  ./UTKFace/85_1_2_20170112204748587.jpg.chip.jpg\n",
       "14014        3  ./UTKFace/85_1_0_20170110182918046.jpg.chip.jpg\n",
       "2277         3  ./UTKFace/80_1_1_20170116153903211.jpg.chip.jpg\n",
       "18416        3  ./UTKFace/85_0_0_20170111210559755.jpg.chip.jpg\n",
       "1363         3  ./UTKFace/80_1_1_20170117193146273.jpg.chip.jpg\n",
       "\n",
       "[12000 rows x 2 columns]"
      ]
     },
     "execution_count": 9,
     "metadata": {},
     "output_type": "execute_result"
    }
   ],
   "source": [
    "dataset = pd.read_pickle(\"./new_dataset.pkl\")\n",
    "dataset"
   ]
  },
  {
   "cell_type": "code",
   "execution_count": 10,
   "id": "2e42b822",
   "metadata": {},
   "outputs": [
    {
     "name": "stdout",
     "output_type": "stream",
     "text": [
      "Found 9600 validated image filenames belonging to 4 classes.\n",
      "Found 2400 validated image filenames belonging to 4 classes.\n"
     ]
    }
   ],
   "source": [
    "from sklearn.model_selection import train_test_split\n",
    "\n",
    "train_data, test_data = train_test_split(dataset, test_size=0.2, random_state=42)\n",
    "\n",
    "batch_size = 32\n",
    "epochs = 50\n",
    "input_shape = (256, 256, 3)\n",
    "\n",
    "# 이미지 증강 세팅\n",
    "train_datagen = ImageDataGenerator(\n",
    "    rescale=1./255,\n",
    "    rotation_range=30,\n",
    "    width_shift_range=0.2,\n",
    "    height_shift_range=0.2,\n",
    "    shear_range=0.2,\n",
    "    zoom_range=0.2,\n",
    "    horizontal_flip=True\n",
    ")\n",
    "\n",
    "test_datagen = ImageDataGenerator(rescale=1./255)\n",
    "\n",
    "\n",
    "\n",
    "# 학습 데이터셋 생성\n",
    "train_generator = train_datagen.flow_from_dataframe(\n",
    "    train_data,\n",
    "    x_col='path',\n",
    "    y_col='ageRange',\n",
    "    target_size=input_shape[:2],\n",
    "    batch_size = batch_size,\n",
    "    class_mode='categorical'\n",
    ")\n",
    "\n",
    "# 검증 데이터셋 생성\n",
    "test_generator = test_datagen.flow_from_dataframe(\n",
    "    test_data,\n",
    "    x_col='path',\n",
    "    y_col='ageRange',\n",
    "    target_size=input_shape[:2],\n",
    "    batch_size = batch_size,\n",
    "    class_mode='categorical'\n",
    ")"
   ]
  },
  {
   "cell_type": "code",
   "execution_count": null,
   "id": "5ce7f0cf",
   "metadata": {},
   "outputs": [],
   "source": []
  },
  {
   "cell_type": "code",
   "execution_count": null,
   "id": "f347f310",
   "metadata": {},
   "outputs": [],
   "source": []
  },
  {
   "cell_type": "code",
   "execution_count": null,
   "id": "d866bf6c",
   "metadata": {},
   "outputs": [],
   "source": []
  },
  {
   "cell_type": "code",
   "execution_count": 133,
   "id": "fba95cce",
   "metadata": {},
   "outputs": [],
   "source": [
    "from tensorflow import keras\n",
    "\n",
    "from tensorflow.keras.preprocessing import image\n",
    "import numpy as np\n",
    "\n",
    "model = keras.models.load_model('./model/ResNet50V2/best.h5')"
   ]
  },
  {
   "cell_type": "code",
   "execution_count": 134,
   "id": "c91486a5",
   "metadata": {},
   "outputs": [],
   "source": [
    "# 예측할 이미지 불러오기\n",
    "img_path = './test_img/고.jpeg'\n",
    "img = image.load_img(img_path, target_size=(256, 256))\n",
    "\n",
    "# 이미지 전처리\n",
    "img_array = image.img_to_array(img)\n",
    "img_array = np.expand_dims(img_array, axis=0)\n",
    "img_array = img_array / 255.\n",
    "\n",
    "# 모델 예측\n",
    "prediction = model.predict(img_array)\n",
    "\n",
    "predClass = np.argmax(prediction)"
   ]
  },
  {
   "cell_type": "code",
   "execution_count": 135,
   "id": "2c0a76f6",
   "metadata": {},
   "outputs": [
    {
     "name": "stdout",
     "output_type": "stream",
     "text": [
      "[[6.3395309e-01 2.5249940e-01 1.1354747e-01 9.8780120e-08]]\n"
     ]
    }
   ],
   "source": [
    "print(prediction)"
   ]
  },
  {
   "cell_type": "code",
   "execution_count": 136,
   "id": "f85a6f1f",
   "metadata": {},
   "outputs": [
    {
     "name": "stdout",
     "output_type": "stream",
     "text": [
      "0\n"
     ]
    }
   ],
   "source": [
    "print(predClass)"
   ]
  },
  {
   "cell_type": "code",
   "execution_count": 137,
   "id": "b37dd1ac",
   "metadata": {},
   "outputs": [
    {
     "name": "stdout",
     "output_type": "stream",
     "text": [
      "20~39세\n"
     ]
    }
   ],
   "source": [
    "'''\n",
    "0: 2~30대\n",
    "1: 4~50대\n",
    "2: 6~70대\n",
    "3: 80대 이상\n",
    "'''\n",
    "\n",
    "if predClass == 0:\n",
    "    print(\"20~39세\")\n",
    "elif predClass == 1:\n",
    "    print(\"40~59세\")\n",
    "elif predClass == 2:\n",
    "    print(\"60~79세\")\n",
    "else:\n",
    "    print(\"80세 이상\")"
   ]
  },
  {
   "cell_type": "code",
   "execution_count": null,
   "id": "e9aae8d3",
   "metadata": {},
   "outputs": [],
   "source": []
  }
 ],
 "metadata": {
  "kernelspec": {
   "display_name": "Python [conda env:hello] *",
   "language": "python",
   "name": "conda-env-hello-py"
  },
  "language_info": {
   "codemirror_mode": {
    "name": "ipython",
    "version": 3
   },
   "file_extension": ".py",
   "mimetype": "text/x-python",
   "name": "python",
   "nbconvert_exporter": "python",
   "pygments_lexer": "ipython3",
   "version": "3.9.13"
  }
 },
 "nbformat": 4,
 "nbformat_minor": 5
}
